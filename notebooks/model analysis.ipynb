{
 "cells": [
  {
   "cell_type": "code",
   "execution_count": 2,
   "metadata": {},
   "outputs": [
    {
     "name": "stdout",
     "output_type": "stream",
     "text": [
      "Model and tokenizer loaded successfully from: /Users/kr24945/Documents/Projects/Materia science/New_polyNC/ML4Polymers/model_save/cls-5tasks-bs150-bs8-lr5e6-epoch100\n"
     ]
    }
   ],
   "source": [
    "from transformers import RobertaTokenizer, T5ForConditionalGeneration\n",
    "\n",
    "# Define the full path to your model directory\n",
    "output_dir = '/Users/kr24945/Documents/Projects/Materia science/New_polyNC/ML4Polymers/model_save/cls-5tasks-bs150-bs8-lr5e6-epoch100'\n",
    "\n",
    "# Load the correct tokenizer (RobertaTokenizer) and model (T5ForConditionalGeneration)\n",
    "tokenizer = RobertaTokenizer.from_pretrained(output_dir)\n",
    "model = T5ForConditionalGeneration.from_pretrained(output_dir)\n",
    "\n",
    "print(\"Model and tokenizer loaded successfully from:\", output_dir)\n"
   ]
  },
  {
   "cell_type": "markdown",
   "metadata": {},
   "source": [
    "# Update jupyter and ipywidgets in terminal\n",
    "pip install jupyter ipywidgets --upgrade"
   ]
  },
  {
   "cell_type": "code",
   "execution_count": 5,
   "metadata": {},
   "outputs": [
    {
     "name": "stdout",
     "output_type": "stream",
     "text": [
      "Test dataset loaded. Number of samples: 2320\n",
      "                                              prompt  target\n",
      "0  Predict the Tg of the following SMILES: *CC(C)...  119.85\n",
      "1  Predict the Tg of the following SMILES: C(C(C)...  119.85\n",
      "2  Predict the Tg of the following SMILES: CC(*)(...  119.85\n",
      "3  Predict the Tg of the following SMILES: *C(C*)...  119.85\n",
      "4  Predict the Tg of the following SMILES: *C(C#N...  119.85\n"
     ]
    }
   ],
   "source": [
    "import pandas as pd\n",
    "\n",
    "# Define the path to your test data\n",
    "test_data_path = \"/Users/kr24945/Documents/Projects/Materia science/New_polyNC/ML4Polymers/data/test/prompt-target.csv\"  \n",
    "test_df = pd.read_csv(test_data_path)\n",
    "\n",
    "print(\"Test dataset loaded. Number of samples:\", len(test_df))\n",
    "print(test_df.head())  # Display first few rows to verify\n",
    "\n"
   ]
  },
  {
   "cell_type": "code",
   "execution_count": 13,
   "metadata": {},
   "outputs": [
    {
     "name": "stderr",
     "output_type": "stream",
     "text": [
      "/opt/anaconda3/envs/polyNC1/lib/python3.10/site-packages/transformers/generation/configuration_utils.py:595: UserWarning: `do_sample` is set to `False`. However, `top_p` is set to `0.99` -- this flag is only used in sample-based generation modes. You should set `do_sample=True` or unset `top_p`.\n",
      "  warnings.warn(\n",
      "/opt/anaconda3/envs/polyNC1/lib/python3.10/site-packages/transformers/generation/configuration_utils.py:612: UserWarning: `do_sample` is set to `False`. However, `top_k` is set to `100` -- this flag is only used in sample-based generation modes. You should set `do_sample=True` or unset `top_k`.\n",
      "  warnings.warn(\n"
     ]
    }
   ],
   "source": [
    "# Initialize a list to store predictions\n",
    "predictions = []\n",
    "\n",
    "# Define device and move model to device if applicable\n",
    "device = torch.device(\"cuda\" if torch.cuda.is_available() else \"cpu\")\n",
    "model.to(device)\n",
    "\n",
    "for i, row in test_df.iterrows():\n",
    "    input_text = row['prompt']  \n",
    "    generated = tokenizer.encode(input_text, return_tensors=\"pt\").to(device)\n",
    "\n",
    "    # Generate prediction with updated parameters\n",
    "    sample_outputs = model.generate(\n",
    "        generated,\n",
    "        do_sample=False,         # Use deterministic sampling\n",
    "        top_k=100,               # Limit sampling to top 100 tokens\n",
    "        max_length=50,           # Set a reasonable max length for generation\n",
    "        top_p=0.99,              # Enable nucleus sampling with cumulative probability\n",
    "        num_return_sequences=1   # Generate a single sequence\n",
    "    )\n",
    "    \n",
    "    # Decode and add prediction to list\n",
    "    prediction = tokenizer.decode(sample_outputs[0], skip_special_tokens=True)\n",
    "    predictions.append(prediction)\n",
    "\n",
    "    # Display progress every 10 sa\n",
    "\n"
   ]
  },
  {
   "cell_type": "code",
   "execution_count": 14,
   "metadata": {},
   "outputs": [
    {
     "name": "stdout",
     "output_type": "stream",
     "text": [
      "Average BLEU score: 0.0\n"
     ]
    }
   ],
   "source": [
    "from nltk.translate.bleu_score import sentence_bleu\n",
    "\n",
    "# Calculate BLEU scores for each prediction\n",
    "bleu_scores = []\n",
    "for i, row in test_df.iterrows():\n",
    "    reference = [row['target'].split()]  \n",
    "    candidate = row['predicted_output'].split()\n",
    "    bleu_score = sentence_bleu(reference, candidate)\n",
    "    bleu_scores.append(bleu_score)\n",
    "\n",
    "# Add BLEU scores to DataFrame\n",
    "test_df['bleu_score'] = bleu_scores\n",
    "average_bleu = sum(bleu_scores) / len(bleu_scores)\n",
    "print(\"Average BLEU score:\", average_bleu)\n",
    "\n"
   ]
  },
  {
   "cell_type": "code",
   "execution_count": 16,
   "metadata": {},
   "outputs": [],
   "source": [
    "sample_outputs = model.generate(\n",
    "    generated,\n",
    "    max_length=50,       # Increase length if necessary\n",
    "    num_return_sequences=1\n",
    ")\n",
    "\n",
    "\n",
    "\n"
   ]
  },
  {
   "cell_type": "code",
   "execution_count": 17,
   "metadata": {},
   "outputs": [
    {
     "name": "stdout",
     "output_type": "stream",
     "text": [
      "Single Prediction Output: \n"
     ]
    }
   ],
   "source": [
    "input_text = test_df.loc[0, 'prompt']  # Replace 'prompt' with the actual column name\n",
    "input_ids = tokenizer.encode(input_text, return_tensors=\"pt\").to(device)\n",
    "\n",
    "sample_outputs = model.generate(input_ids, max_length=50)\n",
    "prediction = tokenizer.decode(sample_outputs[0], skip_special_tokens=True)\n",
    "print(\"Single Prediction Output:\", prediction)\n"
   ]
  },
  {
   "cell_type": "code",
   "execution_count": null,
   "metadata": {},
   "outputs": [],
   "source": [
    "sample_outputs = model.generate(\n",
    "    generated,\n",
    "    max_length=50,       # Increase length if necessary\n",
    "    num_return_sequences=1\n",
    ")\n",
    "\n",
    "\n",
    "\n"
   ]
  }
 ],
 "metadata": {
  "kernelspec": {
   "display_name": "polyNC1",
   "language": "python",
   "name": "python3"
  },
  "language_info": {
   "codemirror_mode": {
    "name": "ipython",
    "version": 3
   },
   "file_extension": ".py",
   "mimetype": "text/x-python",
   "name": "python",
   "nbconvert_exporter": "python",
   "pygments_lexer": "ipython3",
   "version": "3.10.13"
  }
 },
 "nbformat": 4,
 "nbformat_minor": 2
}

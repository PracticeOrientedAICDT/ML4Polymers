{
 "cells": [
  {
   "cell_type": "code",
   "execution_count": null,
   "metadata": {},
   "outputs": [],
   "source": [
    "from transformers import T5ForConditionalGeneration, T5Tokenizer\n",
    "import torch\n",
    "\n",
    "# Directory where your model files are stored\n",
    "model_dir = \"/Users/kr24945/Documents/Projects/Materia science/New_polyNC/ML4Polymers/model_save/cls-5tasks-bs150-bs8-lr5e6-epoch100\"  # Replace with the correct path\n",
    "\n",
    "# Load tokenizer\n",
    "tokenizer = T5Tokenizer.from_pretrained(model_dir)\n",
    "\n",
    "# Load model\n",
    "model = T5ForConditionalGeneration.from_pretrained(\n",
    "    model_dir,\n",
    "    torch_dtype=torch.float32\n",
    ")\n",
    "\n",
    "# Verify that the model is loaded\n",
    "print(\"Model and tokenizer loaded successfully!\")\n",
    "print(f\"Model: {model}\")\n"
   ]
  }
 ],
 "metadata": {
  "language_info": {
   "name": "python"
  }
 },
 "nbformat": 4,
 "nbformat_minor": 2
}
